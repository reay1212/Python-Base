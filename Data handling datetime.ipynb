{
 "cells": [
  {
   "cell_type": "markdown",
   "metadata": {},
   "source": [
    "# Date and Time Data handling"
   ]
  },
  {
   "cell_type": "code",
   "execution_count": 1,
   "metadata": {},
   "outputs": [
    {
     "name": "stdout",
     "output_type": "stream",
     "text": [
      "['MAXYEAR', 'MINYEAR', '__builtins__', '__cached__', '__doc__', '__file__', '__loader__', '__name__', '__package__', '__spec__', 'date', 'datetime', 'datetime_CAPI', 'time', 'timedelta', 'timezone', 'tzinfo']\n"
     ]
    }
   ],
   "source": [
    "import pandas as pd\n",
    "import datetime as dt\n",
    "\n",
    "\n",
    "print(dir(dt))"
   ]
  },
  {
   "cell_type": "code",
   "execution_count": 16,
   "metadata": {},
   "outputs": [
    {
     "name": "stdout",
     "output_type": "stream",
     "text": [
      "2019-01-23 11:22:40.675875\n",
      "2019-01-23\n",
      "****************************************************************************************************\n",
      "2019\n",
      "1\n",
      "23\n"
     ]
    }
   ],
   "source": [
    "print(dt.datetime.now())\n",
    "print(dt.date.today())\n",
    "print('*' * 100)\n",
    "print(dt.date.today().year)\n",
    "print(dt.date.today().month)\n",
    "print(dt.date.today().day)"
   ]
  },
  {
   "cell_type": "code",
   "execution_count": 18,
   "metadata": {},
   "outputs": [
    {
     "name": "stdout",
     "output_type": "stream",
     "text": [
      "365 days, 0:00:00\n"
     ]
    }
   ],
   "source": [
    "ex1 = dt.date(2019,1,1)\n",
    "ex2 = dt.date(2018,1,1)\n",
    "\n",
    "print(ex1-ex2)"
   ]
  },
  {
   "cell_type": "markdown",
   "metadata": {},
   "source": [
    "## Date and Time data format"
   ]
  },
  {
   "cell_type": "code",
   "execution_count": 37,
   "metadata": {},
   "outputs": [
    {
     "name": "stdout",
     "output_type": "stream",
     "text": [
      "2019-01-23 13:40:06.229432\n",
      "**************************************************\n",
      "01/23/2019, 13:40:06\n",
      "**************************************************\n",
      "13:40:06\n",
      "13 : 40 : 06\n",
      "13 Hour\n",
      "**************************************************\n",
      "2019-01-23\n",
      "2019-01\n",
      "2019 Year 01 Month 23 Day\n"
     ]
    }
   ],
   "source": [
    "now = dt.datetime.now()\n",
    "print(now)\n",
    "print('*' * 50)\n",
    "print(now.strftime(\"%m/%d/%Y, %H:%M:%S\"))\n",
    "print('*' * 50)\n",
    "print(now.strftime(\"%H:%M:%S\"))\n",
    "print(now.strftime(\"%H : %M : %S\"))\n",
    "print(now.strftime(\"%H Hour\"))\n",
    "print('*' * 50)\n",
    "print(now.strftime(\"%Y-%m-%d\"))\n",
    "print(now.strftime(\"%Y-%m\"))\n",
    "print(now.strftime(\"%Y Year %m Month %d Day\"))"
   ]
  },
  {
   "cell_type": "markdown",
   "metadata": {},
   "source": [
    "## Generate date range (Day)"
   ]
  },
  {
   "cell_type": "code",
   "execution_count": 63,
   "metadata": {},
   "outputs": [
    {
     "data": {
      "text/html": [
       "<div>\n",
       "<style scoped>\n",
       "    .dataframe tbody tr th:only-of-type {\n",
       "        vertical-align: middle;\n",
       "    }\n",
       "\n",
       "    .dataframe tbody tr th {\n",
       "        vertical-align: top;\n",
       "    }\n",
       "\n",
       "    .dataframe thead th {\n",
       "        text-align: right;\n",
       "    }\n",
       "</style>\n",
       "<table border=\"1\" class=\"dataframe\">\n",
       "  <thead>\n",
       "    <tr style=\"text-align: right;\">\n",
       "      <th></th>\n",
       "      <th>yyyy_mm_dd</th>\n",
       "    </tr>\n",
       "  </thead>\n",
       "  <tbody>\n",
       "    <tr>\n",
       "      <th>0</th>\n",
       "      <td>2018-05-01</td>\n",
       "    </tr>\n",
       "    <tr>\n",
       "      <th>1</th>\n",
       "      <td>2018-05-02</td>\n",
       "    </tr>\n",
       "    <tr>\n",
       "      <th>2</th>\n",
       "      <td>2018-05-03</td>\n",
       "    </tr>\n",
       "    <tr>\n",
       "      <th>3</th>\n",
       "      <td>2018-05-04</td>\n",
       "    </tr>\n",
       "    <tr>\n",
       "      <th>4</th>\n",
       "      <td>2018-05-05</td>\n",
       "    </tr>\n",
       "  </tbody>\n",
       "</table>\n",
       "</div>"
      ],
      "text/plain": [
       "  yyyy_mm_dd\n",
       "0 2018-05-01\n",
       "1 2018-05-02\n",
       "2 2018-05-03\n",
       "3 2018-05-04\n",
       "4 2018-05-05"
      ]
     },
     "execution_count": 63,
     "metadata": {},
     "output_type": "execute_result"
    }
   ],
   "source": [
    "date1 = \"2018-05-01\"\n",
    "date2 = \"2018-06-30\"\n",
    "\n",
    "start = dt.datetime.strptime(date1, \"%Y-%m-%d\")\n",
    "end = dt.datetime.strptime(date2, \"%Y-%m-%d\")\n",
    "\n",
    "step = dt.timedelta(days=1)\n",
    "ex1 = []\n",
    "while start <= end:\n",
    "    ex1.append(start)\n",
    "    start += step\n",
    "\n",
    "pd.DataFrame(ex1, columns=[\"yyyy_mm_dd\"]).head()"
   ]
  },
  {
   "cell_type": "markdown",
   "metadata": {},
   "source": [
    "## Generate date range (Month) - working..."
   ]
  },
  {
   "cell_type": "code",
   "execution_count": 70,
   "metadata": {},
   "outputs": [],
   "source": [
    "date3 = \"2017-01\"\n",
    "date4 = \"2018-12\"\n",
    "\n",
    "start = dt.datetime.strptime(date3, \"%Y-%m\")\n",
    "end = dt.datetime.strptime(date4, \"%Y-%m\")"
   ]
  }
 ],
 "metadata": {
  "kernelspec": {
   "display_name": "Python 3",
   "language": "python",
   "name": "python3"
  },
  "language_info": {
   "codemirror_mode": {
    "name": "ipython",
    "version": 3
   },
   "file_extension": ".py",
   "mimetype": "text/x-python",
   "name": "python",
   "nbconvert_exporter": "python",
   "pygments_lexer": "ipython3",
   "version": "3.6.5"
  }
 },
 "nbformat": 4,
 "nbformat_minor": 2
}
