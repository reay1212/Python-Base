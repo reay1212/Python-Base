{
 "cells": [
  {
   "cell_type": "markdown",
   "metadata": {},
   "source": [
    "# Data reshape "
   ]
  },
  {
   "cell_type": "markdown",
   "metadata": {},
   "source": [
    "# 1. melt"
   ]
  },
  {
   "cell_type": "code",
   "execution_count": 20,
   "metadata": {},
   "outputs": [
    {
     "name": "stdout",
     "output_type": "stream",
     "text": [
      "             religion  <$10k  $10-20k  $20-30k  $30-40k\n",
      "0            Agnostic     27       34       60       81\n",
      "1             Atheist     12       27       37       52\n",
      "2            Buddhist     27       21       30       34\n",
      "3            Catholic    418      617      732      670\n",
      "4  Don’t know/refused     15       14       15       11\n",
      "****************************************************************************************************\n",
      "   year        artist                    track  time date.entered  wk1   wk2   wk3   wk4   wk5\n",
      "0  2000         2 Pac  Baby Don't Cry (Keep...  4:22   2000-02-26   87  82.0  72.0  77.0  87.0\n",
      "1  2000       2Ge+her  The Hardest Part Of ...  3:15   2000-09-02   91  87.0  92.0   NaN   NaN\n",
      "2  2000  3 Doors Down               Kryptonite  3:53   2000-04-08   81  70.0  68.0  67.0  66.0\n",
      "3  2000  3 Doors Down                    Loser  4:24   2000-10-21   76  76.0  72.0  69.0  67.0\n",
      "4  2000      504 Boyz            Wobble Wobble  3:35   2000-04-15   57  34.0  25.0  17.0  17.0\n"
     ]
    }
   ],
   "source": [
    "import pandas as pd\n",
    "\n",
    "pew = pd.read_csv('pew.csv')\n",
    "pew = pew.iloc[:,:5]\n",
    "\n",
    "billboard=pd.read_csv('billboard.csv')\n",
    "billboard.head()\n",
    "\n",
    "print(pew.head())\n",
    "print('*' * 100)\n",
    "print(billboard.iloc[:,:10].head())"
   ]
  },
  {
   "cell_type": "code",
   "execution_count": 21,
   "metadata": {},
   "outputs": [
    {
     "name": "stdout",
     "output_type": "stream",
     "text": [
      "             religion variable  value\n",
      "0            Agnostic    <$10k     27\n",
      "1             Atheist    <$10k     12\n",
      "2            Buddhist    <$10k     27\n",
      "3            Catholic    <$10k    418\n",
      "4  Don’t know/refused    <$10k     15\n",
      "****************************************************************************************************\n",
      "             religion income  count\n",
      "0            Agnostic  <$10k     27\n",
      "1             Atheist  <$10k     12\n",
      "2            Buddhist  <$10k     27\n",
      "3            Catholic  <$10k    418\n",
      "4  Don’t know/refused  <$10k     15\n",
      "****************************************************************************************************\n",
      "   year        artist variable                    value\n",
      "0  2000         2 Pac    track  Baby Don't Cry (Keep...\n",
      "1  2000       2Ge+her    track  The Hardest Part Of ...\n",
      "2  2000  3 Doors Down    track               Kryptonite\n",
      "3  2000  3 Doors Down    track                    Loser\n",
      "4  2000      504 Boyz    track            Wobble Wobble\n",
      "****************************************************************************************************\n",
      "   year        artist                    track  time date.entered variable  value\n",
      "0  2000         2 Pac  Baby Don't Cry (Keep...  4:22   2000-02-26      wk1   87.0\n",
      "1  2000       2Ge+her  The Hardest Part Of ...  3:15   2000-09-02      wk1   91.0\n",
      "2  2000  3 Doors Down               Kryptonite  3:53   2000-04-08      wk1   81.0\n",
      "3  2000  3 Doors Down                    Loser  4:24   2000-10-21      wk1   76.0\n",
      "4  2000      504 Boyz            Wobble Wobble  3:35   2000-04-15      wk1   57.0\n"
     ]
    }
   ],
   "source": [
    "pd.set_option('display.expand_frame_repr', False)\n",
    "\n",
    "print(pd.melt(pew, id_vars='religion').head())\n",
    "print('*'*100)\n",
    "print(pd.melt(pew, id_vars='religion', var_name='income', value_name='count').head())\n",
    "print('*'*100)\n",
    "print(pd.melt(billboard, id_vars=['year','artist']).head())\n",
    "print('*' * 100)\n",
    "print(pd.melt(billboard, id_vars=['year','artist','track','time','date.entered']).head())"
   ]
  }
 ],
 "metadata": {
  "kernelspec": {
   "display_name": "Python 3",
   "language": "python",
   "name": "python3"
  },
  "language_info": {
   "codemirror_mode": {
    "name": "ipython",
    "version": 3
   },
   "file_extension": ".py",
   "mimetype": "text/x-python",
   "name": "python",
   "nbconvert_exporter": "python",
   "pygments_lexer": "ipython3",
   "version": "3.6.5"
  }
 },
 "nbformat": 4,
 "nbformat_minor": 2
}
