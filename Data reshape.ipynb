{
 "cells": [
  {
   "cell_type": "markdown",
   "metadata": {},
   "source": [
    "# Data reshape "
   ]
  },
  {
   "cell_type": "code",
   "execution_count": 50,
   "metadata": {},
   "outputs": [],
   "source": [
    "import pandas as pd\n",
    "import numpy as np"
   ]
  },
  {
   "cell_type": "markdown",
   "metadata": {},
   "source": [
    "# 1. melt"
   ]
  },
  {
   "cell_type": "code",
   "execution_count": 51,
   "metadata": {},
   "outputs": [
    {
     "name": "stdout",
     "output_type": "stream",
     "text": [
      "             religion  <$10k  $10-20k  $20-30k  $30-40k\n",
      "0            Agnostic     27       34       60       81\n",
      "1             Atheist     12       27       37       52\n",
      "2            Buddhist     27       21       30       34\n",
      "3            Catholic    418      617      732      670\n",
      "4  Don’t know/refused     15       14       15       11\n",
      "****************************************************************************************************\n",
      "   year        artist                    track  time date.entered  wk1   wk2   wk3   wk4   wk5\n",
      "0  2000         2 Pac  Baby Don't Cry (Keep...  4:22   2000-02-26   87  82.0  72.0  77.0  87.0\n",
      "1  2000       2Ge+her  The Hardest Part Of ...  3:15   2000-09-02   91  87.0  92.0   NaN   NaN\n",
      "2  2000  3 Doors Down               Kryptonite  3:53   2000-04-08   81  70.0  68.0  67.0  66.0\n",
      "3  2000  3 Doors Down                    Loser  4:24   2000-10-21   76  76.0  72.0  69.0  67.0\n",
      "4  2000      504 Boyz            Wobble Wobble  3:35   2000-04-15   57  34.0  25.0  17.0  17.0\n"
     ]
    }
   ],
   "source": [
    "pew = pd.read_csv('pew.csv')\n",
    "pew = pew.iloc[:,:5]\n",
    "\n",
    "billboard=pd.read_csv('billboard.csv')\n",
    "billboard.head()\n",
    "\n",
    "print(pew.head())\n",
    "print('*' * 100)\n",
    "print(billboard.iloc[:,:10].head())"
   ]
  },
  {
   "cell_type": "code",
   "execution_count": 55,
   "metadata": {
    "scrolled": true
   },
   "outputs": [
    {
     "name": "stdout",
     "output_type": "stream",
     "text": [
      "             religion variable  value\n",
      "0            Agnostic    <$10k     27\n",
      "1             Atheist    <$10k     12\n",
      "2            Buddhist    <$10k     27\n",
      "3            Catholic    <$10k    418\n",
      "4  Don’t know/refused    <$10k     15\n",
      "****************************************************************************************************\n",
      "             religion income  count\n",
      "0            Agnostic  <$10k     27\n",
      "1             Atheist  <$10k     12\n",
      "2            Buddhist  <$10k     27\n",
      "3            Catholic  <$10k    418\n",
      "4  Don’t know/refused  <$10k     15\n",
      "****************************************************************************************************\n",
      "   year        artist variable                    value\n",
      "0  2000         2 Pac    track  Baby Don't Cry (Keep...\n",
      "1  2000       2Ge+her    track  The Hardest Part Of ...\n",
      "2  2000  3 Doors Down    track               Kryptonite\n",
      "3  2000  3 Doors Down    track                    Loser\n",
      "4  2000      504 Boyz    track            Wobble Wobble\n",
      "****************************************************************************************************\n",
      "   year        artist                    track  time date.entered variable  value\n",
      "0  2000         2 Pac  Baby Don't Cry (Keep...  4:22   2000-02-26      wk1   87.0\n",
      "1  2000       2Ge+her  The Hardest Part Of ...  3:15   2000-09-02      wk1   91.0\n",
      "2  2000  3 Doors Down               Kryptonite  3:53   2000-04-08      wk1   81.0\n",
      "3  2000  3 Doors Down                    Loser  4:24   2000-10-21      wk1   76.0\n",
      "4  2000      504 Boyz            Wobble Wobble  3:35   2000-04-15      wk1   57.0\n"
     ]
    }
   ],
   "source": [
    "pd.set_option('display.expand_frame_repr', False)\n",
    "\n",
    "print(pd.melt(pew, id_vars='religion').head())\n",
    "print('*'*100)\n",
    "print(pd.melt(pew, id_vars='religion', var_name='income', value_name='count').head())\n",
    "print('*'*100)\n",
    "print(pd.melt(billboard, id_vars=['year','artist']).head())\n",
    "print('*' * 100)\n",
    "print(pd.melt(billboard, id_vars=['year','artist','track','time','date.entered']).head())"
   ]
  },
  {
   "cell_type": "markdown",
   "metadata": {},
   "source": [
    "# 2. pivot_table"
   ]
  },
  {
   "cell_type": "code",
   "execution_count": 53,
   "metadata": {},
   "outputs": [],
   "source": [
    "df = pd.DataFrame({'id': ['c1', 'c1', 'c1', 'c2', 'c2', 'c2', 'c3', 'c3', 'c3', 'c1', 'c2', 'c3'],\n",
    "                   'code': ['p1', 'p2', 'p3', 'p1', 'p2', 'p3', 'p1', 'p2', 'p3', 'p1', 'p2', 'p3'],\n",
    "                   'grade' : ['A', 'A', 'A', 'A', 'A', 'A', 'B', 'B', 'B', 'A', 'B', 'A'],\n",
    "                   'amt': [30, 10, 0, 40, 15, 30, 0, 0, 10, 10, 20, 30]})"
   ]
  },
  {
   "cell_type": "code",
   "execution_count": 54,
   "metadata": {},
   "outputs": [
    {
     "name": "stdout",
     "output_type": "stream",
     "text": [
      "grade     A     B\n",
      "id               \n",
      "c1     50.0   NaN\n",
      "c2     85.0  20.0\n",
      "c3     30.0  10.0\n",
      "****************************************************************************************************\n",
      "grade          A          B\n",
      "id                         \n",
      "c1     12.500000        NaN\n",
      "c2     28.333333  20.000000\n",
      "c3     30.000000   3.333333\n",
      "****************************************************************************************************\n",
      "grade  id code     A     B\n",
      "0      c1   p1  40.0   NaN\n",
      "1      c1   p2  10.0   NaN\n",
      "2      c1   p3   0.0   NaN\n",
      "3      c2   p1  40.0   NaN\n",
      "4      c2   p2  15.0  20.0\n",
      "5      c2   p3  30.0   NaN\n",
      "6      c3   p1   NaN   0.0\n",
      "7      c3   p2   NaN   0.0\n",
      "8      c3   p3  30.0  10.0\n",
      "****************************************************************************************************\n",
      "grade     A                B            \n",
      "code     p1    p2    p3   p1    p2    p3\n",
      "id                                      \n",
      "c1     40.0  10.0   0.0  NaN   NaN   NaN\n",
      "c2     40.0  15.0  30.0  NaN  20.0   NaN\n",
      "c3      NaN   NaN  30.0  0.0   0.0  10.0\n",
      "****************************************************************************************************\n",
      "grade      A     B  All\n",
      "id                     \n",
      "c1      50.0   NaN   50\n",
      "c2      85.0  20.0  105\n",
      "c3      30.0  10.0   40\n",
      "All    165.0  30.0  195\n",
      "****************************************************************************************************\n",
      "grade    A    B\n",
      "id             \n",
      "c1     4.0  NaN\n",
      "c2     3.0  1.0\n",
      "c3     1.0  3.0\n"
     ]
    }
   ],
   "source": [
    "print(pd.pivot_table(df, index='id', columns='grade', values='amt', aggfunc=np.sum))\n",
    "print(\"*\" * 100)\n",
    "print(pd.pivot_table(df, index='id', columns='grade', values='amt', aggfunc=np.mean))\n",
    "print(\"*\" * 100)\n",
    "print(pd.pivot_table(df, index=['id','code'], columns='grade', values='amt', aggfunc=np.sum).reset_index())\n",
    "print(\"*\" * 100)\n",
    "print(pd.pivot_table(df, index='id', columns=['grade','code'], values='amt', aggfunc=np.sum))\n",
    "print(\"*\" * 100)\n",
    "print(pd.pivot_table(df, index='id', columns='grade', values='amt', aggfunc=np.sum, margins=True))\n",
    "print(\"*\" * 100)\n",
    "print(pd.pivot_table(df, index='id', columns='grade', values='amt', aggfunc='count'))"
   ]
  },
  {
   "cell_type": "code",
   "execution_count": null,
   "metadata": {},
   "outputs": [],
   "source": []
  }
 ],
 "metadata": {
  "kernelspec": {
   "display_name": "Python 3",
   "language": "python",
   "name": "python3"
  },
  "language_info": {
   "codemirror_mode": {
    "name": "ipython",
    "version": 3
   },
   "file_extension": ".py",
   "mimetype": "text/x-python",
   "name": "python",
   "nbconvert_exporter": "python",
   "pygments_lexer": "ipython3",
   "version": "3.6.5"
  }
 },
 "nbformat": 4,
 "nbformat_minor": 2
}
